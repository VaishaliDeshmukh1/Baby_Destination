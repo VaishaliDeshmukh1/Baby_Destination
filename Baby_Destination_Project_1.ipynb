{
 "cells": [
  {
   "cell_type": "markdown",
   "metadata": {},
   "source": [
    " # <center> Baby Destination Assignment Project-1 </center>\n",
    " \n",
    "Post Data: Daily data give for Reach, Impression, Click for 3 content types Photo, Link and Video.\n",
    "1. Create a monthly table that shows monthly reach, impression and clicks for each of the content type for the below months.\n",
    "2. Show monthly changes in reach for each of the content type for the below months.\n",
    "\n",
    "<ul>\n",
    "    <li> Jan-16\n",
    "    <li> Feb-16\n",
    "    <li> Mar-16\n",
    "    <li> Apr-16\n",
    "    <li> May-16\n",
    "</ul>\n"
   ]
  },
  {
   "cell_type": "markdown",
   "metadata": {},
   "source": [
    "<h1> Table of Content </h1>\n",
    "\n",
    "<ol>\n",
    "        <li><a href=\"#ref1\">Import Required libraries</a></li>\n",
    "        <li><a href=\"#ref2\">Acquiring the Data</a></li>\n",
    "        <li><a href=\"#ref3\">Preprocessing</a></li>\n",
    "        <li><a href=\"#ref4\">Create a monthly table that shows monthly reach, impression and clicks for each of the content type for the below months.</a></li>\n",
    "        <li><a href=\"#ref5\">Show monthly changes in reach for each of the content type for the below months.</a></li>\n",
    "</ol>"
   ]
  },
  {
   "cell_type": "markdown",
   "metadata": {},
   "source": [
    "<a id=\"ref1\"></a>\n",
    "## 1. Import Required Libraries"
   ]
  },
  {
   "cell_type": "code",
   "execution_count": 1,
   "metadata": {},
   "outputs": [],
   "source": [
    "import pandas as pd\n",
    "import numpy as np\n",
    "import matplotlib.pyplot as plt\n",
    "%matplotlib inline"
   ]
  },
  {
   "cell_type": "markdown",
   "metadata": {},
   "source": [
    "<a id=\"ref2\"></a>\n",
    "## 2. Acquiring the Data\n",
    "\n",
    "Lets import the Post Data sheet from the excel file"
   ]
  },
  {
   "cell_type": "code",
   "execution_count": 2,
   "metadata": {},
   "outputs": [],
   "source": [
    "df1= pd.read_excel(r\"C:\\Users\\user\\Downloads\\Reporting Assignment.xlsx\")"
   ]
  },
  {
   "cell_type": "markdown",
   "metadata": {},
   "source": [
    "#### 2.1 Read first 5 rows from the dataset"
   ]
  },
  {
   "cell_type": "code",
   "execution_count": 3,
   "metadata": {},
   "outputs": [
    {
     "data": {
      "text/html": [
       "<div>\n",
       "<style scoped>\n",
       "    .dataframe tbody tr th:only-of-type {\n",
       "        vertical-align: middle;\n",
       "    }\n",
       "\n",
       "    .dataframe tbody tr th {\n",
       "        vertical-align: top;\n",
       "    }\n",
       "\n",
       "    .dataframe thead th {\n",
       "        text-align: right;\n",
       "    }\n",
       "</style>\n",
       "<table border=\"1\" class=\"dataframe\">\n",
       "  <thead>\n",
       "    <tr style=\"text-align: right;\">\n",
       "      <th></th>\n",
       "      <th>Post ID</th>\n",
       "      <th>content type</th>\n",
       "      <th>Date posted</th>\n",
       "      <th>click</th>\n",
       "      <th>reach</th>\n",
       "      <th>impression</th>\n",
       "    </tr>\n",
       "  </thead>\n",
       "  <tbody>\n",
       "    <tr>\n",
       "      <th>0</th>\n",
       "      <td>917697664961970_921719407893129</td>\n",
       "      <td>Photo</td>\n",
       "      <td>2015-08-11 00:00:00</td>\n",
       "      <td>11</td>\n",
       "      <td>17</td>\n",
       "      <td>1</td>\n",
       "    </tr>\n",
       "    <tr>\n",
       "      <th>1</th>\n",
       "      <td>917697664961970_922187454512991</td>\n",
       "      <td>Photo</td>\n",
       "      <td>2015-08-11 00:00:00</td>\n",
       "      <td>23</td>\n",
       "      <td>54</td>\n",
       "      <td>5</td>\n",
       "    </tr>\n",
       "    <tr>\n",
       "      <th>2</th>\n",
       "      <td>917697664961970_922176597847410</td>\n",
       "      <td>Photo</td>\n",
       "      <td>2015-08-11 00:00:00</td>\n",
       "      <td>9</td>\n",
       "      <td>16</td>\n",
       "      <td>9</td>\n",
       "    </tr>\n",
       "    <tr>\n",
       "      <th>3</th>\n",
       "      <td>917697664961970_921722437892826</td>\n",
       "      <td>Photo</td>\n",
       "      <td>2015-08-11 00:00:00</td>\n",
       "      <td>0</td>\n",
       "      <td>0</td>\n",
       "      <td>0</td>\n",
       "    </tr>\n",
       "    <tr>\n",
       "      <th>4</th>\n",
       "      <td>917697664961970_922199271178476</td>\n",
       "      <td>Link</td>\n",
       "      <td>2015-09-11 00:00:00</td>\n",
       "      <td>657</td>\n",
       "      <td>896</td>\n",
       "      <td>654</td>\n",
       "    </tr>\n",
       "  </tbody>\n",
       "</table>\n",
       "</div>"
      ],
      "text/plain": [
       "                           Post ID content type          Date posted  click  \\\n",
       "0  917697664961970_921719407893129        Photo  2015-08-11 00:00:00     11   \n",
       "1  917697664961970_922187454512991        Photo  2015-08-11 00:00:00     23   \n",
       "2  917697664961970_922176597847410        Photo  2015-08-11 00:00:00      9   \n",
       "3  917697664961970_921722437892826        Photo  2015-08-11 00:00:00      0   \n",
       "4  917697664961970_922199271178476         Link  2015-09-11 00:00:00    657   \n",
       "\n",
       "   reach  impression  \n",
       "0     17           1  \n",
       "1     54           5  \n",
       "2     16           9  \n",
       "3      0           0  \n",
       "4    896         654  "
      ]
     },
     "execution_count": 3,
     "metadata": {},
     "output_type": "execute_result"
    }
   ],
   "source": [
    "df1.head()"
   ]
  },
  {
   "cell_type": "markdown",
   "metadata": {},
   "source": [
    "#### 2.2 Check the size of the dataset"
   ]
  },
  {
   "cell_type": "code",
   "execution_count": 4,
   "metadata": {},
   "outputs": [
    {
     "data": {
      "text/plain": [
       "(337, 6)"
      ]
     },
     "execution_count": 4,
     "metadata": {},
     "output_type": "execute_result"
    }
   ],
   "source": [
    "df1.shape"
   ]
  },
  {
   "cell_type": "markdown",
   "metadata": {},
   "source": [
    "<a id=\"ref3\"></a>\n",
    "## 3. Preprocessing"
   ]
  },
  {
   "cell_type": "markdown",
   "metadata": {},
   "source": [
    "#### 3.1 lets seperate the Date, year and month from \"Date Posted\" column using pandas DatetimeIndex function.\n",
    "\n",
    "Create new columns for Date, Year, Month_Name, Month_Value"
   ]
  },
  {
   "cell_type": "code",
   "execution_count": 5,
   "metadata": {},
   "outputs": [
    {
     "data": {
      "text/html": [
       "<div>\n",
       "<style scoped>\n",
       "    .dataframe tbody tr th:only-of-type {\n",
       "        vertical-align: middle;\n",
       "    }\n",
       "\n",
       "    .dataframe tbody tr th {\n",
       "        vertical-align: top;\n",
       "    }\n",
       "\n",
       "    .dataframe thead th {\n",
       "        text-align: right;\n",
       "    }\n",
       "</style>\n",
       "<table border=\"1\" class=\"dataframe\">\n",
       "  <thead>\n",
       "    <tr style=\"text-align: right;\">\n",
       "      <th></th>\n",
       "      <th>Post ID</th>\n",
       "      <th>content type</th>\n",
       "      <th>Date posted</th>\n",
       "      <th>click</th>\n",
       "      <th>reach</th>\n",
       "      <th>impression</th>\n",
       "      <th>Date</th>\n",
       "      <th>Year</th>\n",
       "      <th>Month</th>\n",
       "      <th>Month_value</th>\n",
       "    </tr>\n",
       "  </thead>\n",
       "  <tbody>\n",
       "    <tr>\n",
       "      <th>0</th>\n",
       "      <td>917697664961970_921719407893129</td>\n",
       "      <td>Photo</td>\n",
       "      <td>2015-08-11 00:00:00</td>\n",
       "      <td>11</td>\n",
       "      <td>17</td>\n",
       "      <td>1</td>\n",
       "      <td>2015-08-11</td>\n",
       "      <td>2015</td>\n",
       "      <td>August</td>\n",
       "      <td>8</td>\n",
       "    </tr>\n",
       "    <tr>\n",
       "      <th>1</th>\n",
       "      <td>917697664961970_922187454512991</td>\n",
       "      <td>Photo</td>\n",
       "      <td>2015-08-11 00:00:00</td>\n",
       "      <td>23</td>\n",
       "      <td>54</td>\n",
       "      <td>5</td>\n",
       "      <td>2015-08-11</td>\n",
       "      <td>2015</td>\n",
       "      <td>August</td>\n",
       "      <td>8</td>\n",
       "    </tr>\n",
       "    <tr>\n",
       "      <th>2</th>\n",
       "      <td>917697664961970_922176597847410</td>\n",
       "      <td>Photo</td>\n",
       "      <td>2015-08-11 00:00:00</td>\n",
       "      <td>9</td>\n",
       "      <td>16</td>\n",
       "      <td>9</td>\n",
       "      <td>2015-08-11</td>\n",
       "      <td>2015</td>\n",
       "      <td>August</td>\n",
       "      <td>8</td>\n",
       "    </tr>\n",
       "    <tr>\n",
       "      <th>3</th>\n",
       "      <td>917697664961970_921722437892826</td>\n",
       "      <td>Photo</td>\n",
       "      <td>2015-08-11 00:00:00</td>\n",
       "      <td>0</td>\n",
       "      <td>0</td>\n",
       "      <td>0</td>\n",
       "      <td>2015-08-11</td>\n",
       "      <td>2015</td>\n",
       "      <td>August</td>\n",
       "      <td>8</td>\n",
       "    </tr>\n",
       "    <tr>\n",
       "      <th>4</th>\n",
       "      <td>917697664961970_922199271178476</td>\n",
       "      <td>Link</td>\n",
       "      <td>2015-09-11 00:00:00</td>\n",
       "      <td>657</td>\n",
       "      <td>896</td>\n",
       "      <td>654</td>\n",
       "      <td>2015-09-11</td>\n",
       "      <td>2015</td>\n",
       "      <td>September</td>\n",
       "      <td>9</td>\n",
       "    </tr>\n",
       "  </tbody>\n",
       "</table>\n",
       "</div>"
      ],
      "text/plain": [
       "                           Post ID content type          Date posted  click  \\\n",
       "0  917697664961970_921719407893129        Photo  2015-08-11 00:00:00     11   \n",
       "1  917697664961970_922187454512991        Photo  2015-08-11 00:00:00     23   \n",
       "2  917697664961970_922176597847410        Photo  2015-08-11 00:00:00      9   \n",
       "3  917697664961970_921722437892826        Photo  2015-08-11 00:00:00      0   \n",
       "4  917697664961970_922199271178476         Link  2015-09-11 00:00:00    657   \n",
       "\n",
       "   reach  impression        Date  Year      Month  Month_value  \n",
       "0     17           1  2015-08-11  2015     August            8  \n",
       "1     54           5  2015-08-11  2015     August            8  \n",
       "2     16           9  2015-08-11  2015     August            8  \n",
       "3      0           0  2015-08-11  2015     August            8  \n",
       "4    896         654  2015-09-11  2015  September            9  "
      ]
     },
     "execution_count": 5,
     "metadata": {},
     "output_type": "execute_result"
    }
   ],
   "source": [
    "df1[\"Date\"]=pd.DatetimeIndex(df1['Date posted']).date\n",
    "df1[\"Year\"]=pd.DatetimeIndex(df1['Date posted']).year\n",
    "df1[\"Month\"]=pd.DatetimeIndex(df1['Date posted']).month_name(locale = 'English')\n",
    "df1[\"Month_value\"]=pd.DatetimeIndex(df1['Date posted']).month\n",
    "df1.head()"
   ]
  },
  {
   "cell_type": "markdown",
   "metadata": {},
   "source": [
    "#### 3.2 Lets drop the \"Date Posted\" column as we have extracted the date in a new column to keep all the dates in same format"
   ]
  },
  {
   "cell_type": "code",
   "execution_count": 6,
   "metadata": {},
   "outputs": [
    {
     "data": {
      "text/html": [
       "<div>\n",
       "<style scoped>\n",
       "    .dataframe tbody tr th:only-of-type {\n",
       "        vertical-align: middle;\n",
       "    }\n",
       "\n",
       "    .dataframe tbody tr th {\n",
       "        vertical-align: top;\n",
       "    }\n",
       "\n",
       "    .dataframe thead th {\n",
       "        text-align: right;\n",
       "    }\n",
       "</style>\n",
       "<table border=\"1\" class=\"dataframe\">\n",
       "  <thead>\n",
       "    <tr style=\"text-align: right;\">\n",
       "      <th></th>\n",
       "      <th>Post ID</th>\n",
       "      <th>content type</th>\n",
       "      <th>click</th>\n",
       "      <th>reach</th>\n",
       "      <th>impression</th>\n",
       "      <th>Date</th>\n",
       "      <th>Year</th>\n",
       "      <th>Month</th>\n",
       "      <th>Month_value</th>\n",
       "    </tr>\n",
       "  </thead>\n",
       "  <tbody>\n",
       "    <tr>\n",
       "      <th>0</th>\n",
       "      <td>917697664961970_921719407893129</td>\n",
       "      <td>Photo</td>\n",
       "      <td>11</td>\n",
       "      <td>17</td>\n",
       "      <td>1</td>\n",
       "      <td>2015-08-11</td>\n",
       "      <td>2015</td>\n",
       "      <td>August</td>\n",
       "      <td>8</td>\n",
       "    </tr>\n",
       "    <tr>\n",
       "      <th>1</th>\n",
       "      <td>917697664961970_922187454512991</td>\n",
       "      <td>Photo</td>\n",
       "      <td>23</td>\n",
       "      <td>54</td>\n",
       "      <td>5</td>\n",
       "      <td>2015-08-11</td>\n",
       "      <td>2015</td>\n",
       "      <td>August</td>\n",
       "      <td>8</td>\n",
       "    </tr>\n",
       "    <tr>\n",
       "      <th>2</th>\n",
       "      <td>917697664961970_922176597847410</td>\n",
       "      <td>Photo</td>\n",
       "      <td>9</td>\n",
       "      <td>16</td>\n",
       "      <td>9</td>\n",
       "      <td>2015-08-11</td>\n",
       "      <td>2015</td>\n",
       "      <td>August</td>\n",
       "      <td>8</td>\n",
       "    </tr>\n",
       "    <tr>\n",
       "      <th>3</th>\n",
       "      <td>917697664961970_921722437892826</td>\n",
       "      <td>Photo</td>\n",
       "      <td>0</td>\n",
       "      <td>0</td>\n",
       "      <td>0</td>\n",
       "      <td>2015-08-11</td>\n",
       "      <td>2015</td>\n",
       "      <td>August</td>\n",
       "      <td>8</td>\n",
       "    </tr>\n",
       "    <tr>\n",
       "      <th>4</th>\n",
       "      <td>917697664961970_922199271178476</td>\n",
       "      <td>Link</td>\n",
       "      <td>657</td>\n",
       "      <td>896</td>\n",
       "      <td>654</td>\n",
       "      <td>2015-09-11</td>\n",
       "      <td>2015</td>\n",
       "      <td>September</td>\n",
       "      <td>9</td>\n",
       "    </tr>\n",
       "  </tbody>\n",
       "</table>\n",
       "</div>"
      ],
      "text/plain": [
       "                           Post ID content type  click  reach  impression  \\\n",
       "0  917697664961970_921719407893129        Photo     11     17           1   \n",
       "1  917697664961970_922187454512991        Photo     23     54           5   \n",
       "2  917697664961970_922176597847410        Photo      9     16           9   \n",
       "3  917697664961970_921722437892826        Photo      0      0           0   \n",
       "4  917697664961970_922199271178476         Link    657    896         654   \n",
       "\n",
       "         Date  Year      Month  Month_value  \n",
       "0  2015-08-11  2015     August            8  \n",
       "1  2015-08-11  2015     August            8  \n",
       "2  2015-08-11  2015     August            8  \n",
       "3  2015-08-11  2015     August            8  \n",
       "4  2015-09-11  2015  September            9  "
      ]
     },
     "execution_count": 6,
     "metadata": {},
     "output_type": "execute_result"
    }
   ],
   "source": [
    "df1=df1.drop(\"Date posted\", axis=1)\n",
    "df1.head()"
   ]
  },
  {
   "cell_type": "markdown",
   "metadata": {},
   "source": [
    "#### 3.3 We need data of only year 2016 for our analysis, so lets create a new dataframe with only 2016 data"
   ]
  },
  {
   "cell_type": "code",
   "execution_count": 7,
   "metadata": {},
   "outputs": [
    {
     "data": {
      "text/html": [
       "<div>\n",
       "<style scoped>\n",
       "    .dataframe tbody tr th:only-of-type {\n",
       "        vertical-align: middle;\n",
       "    }\n",
       "\n",
       "    .dataframe tbody tr th {\n",
       "        vertical-align: top;\n",
       "    }\n",
       "\n",
       "    .dataframe thead th {\n",
       "        text-align: right;\n",
       "    }\n",
       "</style>\n",
       "<table border=\"1\" class=\"dataframe\">\n",
       "  <thead>\n",
       "    <tr style=\"text-align: right;\">\n",
       "      <th></th>\n",
       "      <th>Post ID</th>\n",
       "      <th>content type</th>\n",
       "      <th>click</th>\n",
       "      <th>reach</th>\n",
       "      <th>impression</th>\n",
       "      <th>Date</th>\n",
       "      <th>Year</th>\n",
       "      <th>Month</th>\n",
       "      <th>Month_value</th>\n",
       "    </tr>\n",
       "  </thead>\n",
       "  <tbody>\n",
       "    <tr>\n",
       "      <th>111</th>\n",
       "      <td>917697664961970_946771375387932</td>\n",
       "      <td>Photo</td>\n",
       "      <td>276</td>\n",
       "      <td>517</td>\n",
       "      <td>260</td>\n",
       "      <td>2016-01-01</td>\n",
       "      <td>2016</td>\n",
       "      <td>January</td>\n",
       "      <td>1</td>\n",
       "    </tr>\n",
       "    <tr>\n",
       "      <th>112</th>\n",
       "      <td>917697664961970_947688991962837</td>\n",
       "      <td>SharedVideo</td>\n",
       "      <td>1074</td>\n",
       "      <td>1921</td>\n",
       "      <td>866</td>\n",
       "      <td>2016-03-01</td>\n",
       "      <td>2016</td>\n",
       "      <td>March</td>\n",
       "      <td>3</td>\n",
       "    </tr>\n",
       "    <tr>\n",
       "      <th>113</th>\n",
       "      <td>917697664961970_948188678579535</td>\n",
       "      <td>Photo</td>\n",
       "      <td>0</td>\n",
       "      <td>0</td>\n",
       "      <td>0</td>\n",
       "      <td>2016-04-01</td>\n",
       "      <td>2016</td>\n",
       "      <td>April</td>\n",
       "      <td>4</td>\n",
       "    </tr>\n",
       "    <tr>\n",
       "      <th>114</th>\n",
       "      <td>917697664961970_948991915165878</td>\n",
       "      <td>Photo</td>\n",
       "      <td>0</td>\n",
       "      <td>0</td>\n",
       "      <td>0</td>\n",
       "      <td>2016-05-01</td>\n",
       "      <td>2016</td>\n",
       "      <td>May</td>\n",
       "      <td>5</td>\n",
       "    </tr>\n",
       "    <tr>\n",
       "      <th>115</th>\n",
       "      <td>917697664961970_949068701824866</td>\n",
       "      <td>Link</td>\n",
       "      <td>7037</td>\n",
       "      <td>13007</td>\n",
       "      <td>383</td>\n",
       "      <td>2016-05-01</td>\n",
       "      <td>2016</td>\n",
       "      <td>May</td>\n",
       "      <td>5</td>\n",
       "    </tr>\n",
       "  </tbody>\n",
       "</table>\n",
       "</div>"
      ],
      "text/plain": [
       "                             Post ID content type  click  reach  impression  \\\n",
       "111  917697664961970_946771375387932        Photo    276    517         260   \n",
       "112  917697664961970_947688991962837  SharedVideo   1074   1921         866   \n",
       "113  917697664961970_948188678579535        Photo      0      0           0   \n",
       "114  917697664961970_948991915165878        Photo      0      0           0   \n",
       "115  917697664961970_949068701824866         Link   7037  13007         383   \n",
       "\n",
       "           Date  Year    Month  Month_value  \n",
       "111  2016-01-01  2016  January            1  \n",
       "112  2016-03-01  2016    March            3  \n",
       "113  2016-04-01  2016    April            4  \n",
       "114  2016-05-01  2016      May            5  \n",
       "115  2016-05-01  2016      May            5  "
      ]
     },
     "execution_count": 7,
     "metadata": {},
     "output_type": "execute_result"
    }
   ],
   "source": [
    "df1_2016=df1[df1.Year==2016]\n",
    "df1_2016.head()"
   ]
  },
  {
   "cell_type": "markdown",
   "metadata": {},
   "source": [
    "#### 3.4 Also we need data of only Jan till May 2016 , so lets filter these months from our new dataframe"
   ]
  },
  {
   "cell_type": "code",
   "execution_count": 8,
   "metadata": {},
   "outputs": [
    {
     "data": {
      "text/html": [
       "<div>\n",
       "<style scoped>\n",
       "    .dataframe tbody tr th:only-of-type {\n",
       "        vertical-align: middle;\n",
       "    }\n",
       "\n",
       "    .dataframe tbody tr th {\n",
       "        vertical-align: top;\n",
       "    }\n",
       "\n",
       "    .dataframe thead th {\n",
       "        text-align: right;\n",
       "    }\n",
       "</style>\n",
       "<table border=\"1\" class=\"dataframe\">\n",
       "  <thead>\n",
       "    <tr style=\"text-align: right;\">\n",
       "      <th></th>\n",
       "      <th>Post ID</th>\n",
       "      <th>content type</th>\n",
       "      <th>click</th>\n",
       "      <th>reach</th>\n",
       "      <th>impression</th>\n",
       "      <th>Date</th>\n",
       "      <th>Year</th>\n",
       "      <th>Month</th>\n",
       "      <th>Month_value</th>\n",
       "    </tr>\n",
       "  </thead>\n",
       "  <tbody>\n",
       "    <tr>\n",
       "      <th>111</th>\n",
       "      <td>917697664961970_946771375387932</td>\n",
       "      <td>Photo</td>\n",
       "      <td>276</td>\n",
       "      <td>517</td>\n",
       "      <td>260</td>\n",
       "      <td>2016-01-01</td>\n",
       "      <td>2016</td>\n",
       "      <td>January</td>\n",
       "      <td>1</td>\n",
       "    </tr>\n",
       "    <tr>\n",
       "      <th>112</th>\n",
       "      <td>917697664961970_947688991962837</td>\n",
       "      <td>SharedVideo</td>\n",
       "      <td>1074</td>\n",
       "      <td>1921</td>\n",
       "      <td>866</td>\n",
       "      <td>2016-03-01</td>\n",
       "      <td>2016</td>\n",
       "      <td>March</td>\n",
       "      <td>3</td>\n",
       "    </tr>\n",
       "    <tr>\n",
       "      <th>113</th>\n",
       "      <td>917697664961970_948188678579535</td>\n",
       "      <td>Photo</td>\n",
       "      <td>0</td>\n",
       "      <td>0</td>\n",
       "      <td>0</td>\n",
       "      <td>2016-04-01</td>\n",
       "      <td>2016</td>\n",
       "      <td>April</td>\n",
       "      <td>4</td>\n",
       "    </tr>\n",
       "    <tr>\n",
       "      <th>114</th>\n",
       "      <td>917697664961970_948991915165878</td>\n",
       "      <td>Photo</td>\n",
       "      <td>0</td>\n",
       "      <td>0</td>\n",
       "      <td>0</td>\n",
       "      <td>2016-05-01</td>\n",
       "      <td>2016</td>\n",
       "      <td>May</td>\n",
       "      <td>5</td>\n",
       "    </tr>\n",
       "    <tr>\n",
       "      <th>115</th>\n",
       "      <td>917697664961970_949068701824866</td>\n",
       "      <td>Link</td>\n",
       "      <td>7037</td>\n",
       "      <td>13007</td>\n",
       "      <td>383</td>\n",
       "      <td>2016-05-01</td>\n",
       "      <td>2016</td>\n",
       "      <td>May</td>\n",
       "      <td>5</td>\n",
       "    </tr>\n",
       "  </tbody>\n",
       "</table>\n",
       "</div>"
      ],
      "text/plain": [
       "                             Post ID content type  click  reach  impression  \\\n",
       "111  917697664961970_946771375387932        Photo    276    517         260   \n",
       "112  917697664961970_947688991962837  SharedVideo   1074   1921         866   \n",
       "113  917697664961970_948188678579535        Photo      0      0           0   \n",
       "114  917697664961970_948991915165878        Photo      0      0           0   \n",
       "115  917697664961970_949068701824866         Link   7037  13007         383   \n",
       "\n",
       "           Date  Year    Month  Month_value  \n",
       "111  2016-01-01  2016  January            1  \n",
       "112  2016-03-01  2016    March            3  \n",
       "113  2016-04-01  2016    April            4  \n",
       "114  2016-05-01  2016      May            5  \n",
       "115  2016-05-01  2016      May            5  "
      ]
     },
     "execution_count": 8,
     "metadata": {},
     "output_type": "execute_result"
    }
   ],
   "source": [
    "df1_2016=df1_2016[df1_2016['Month'].isin([\"January\",\"February\",\"March\",\"April\",\"May\"])]\n",
    "df1_2016.head()"
   ]
  },
  {
   "cell_type": "markdown",
   "metadata": {},
   "source": [
    "#### 3.5 check the size of the dataframe"
   ]
  },
  {
   "cell_type": "code",
   "execution_count": 9,
   "metadata": {},
   "outputs": [
    {
     "data": {
      "text/plain": [
       "(170, 9)"
      ]
     },
     "execution_count": 9,
     "metadata": {},
     "output_type": "execute_result"
    }
   ],
   "source": [
    "df1_2016.shape"
   ]
  },
  {
   "cell_type": "markdown",
   "metadata": {},
   "source": [
    " <a id=\"ref4\"></a>\n",
    " ## 4: Create a monthly table that shows monthly reach, impression and clicks for each of the content type for the below months."
   ]
  },
  {
   "cell_type": "markdown",
   "metadata": {},
   "source": [
    "#### 4.1 Create Pivot table "
   ]
  },
  {
   "cell_type": "code",
   "execution_count": 10,
   "metadata": {},
   "outputs": [
    {
     "data": {
      "text/html": [
       "<div>\n",
       "<style scoped>\n",
       "    .dataframe tbody tr th:only-of-type {\n",
       "        vertical-align: middle;\n",
       "    }\n",
       "\n",
       "    .dataframe tbody tr th {\n",
       "        vertical-align: top;\n",
       "    }\n",
       "\n",
       "    .dataframe thead tr th {\n",
       "        text-align: left;\n",
       "    }\n",
       "\n",
       "    .dataframe thead tr:last-of-type th {\n",
       "        text-align: right;\n",
       "    }\n",
       "</style>\n",
       "<table border=\"1\" class=\"dataframe\">\n",
       "  <thead>\n",
       "    <tr>\n",
       "      <th></th>\n",
       "      <th></th>\n",
       "      <th></th>\n",
       "      <th colspan=\"3\" halign=\"left\">click</th>\n",
       "      <th colspan=\"3\" halign=\"left\">impression</th>\n",
       "      <th colspan=\"3\" halign=\"left\">reach</th>\n",
       "    </tr>\n",
       "    <tr>\n",
       "      <th></th>\n",
       "      <th></th>\n",
       "      <th>content type</th>\n",
       "      <th>Link</th>\n",
       "      <th>Photo</th>\n",
       "      <th>SharedVideo</th>\n",
       "      <th>Link</th>\n",
       "      <th>Photo</th>\n",
       "      <th>SharedVideo</th>\n",
       "      <th>Link</th>\n",
       "      <th>Photo</th>\n",
       "      <th>SharedVideo</th>\n",
       "    </tr>\n",
       "    <tr>\n",
       "      <th>Month</th>\n",
       "      <th>Month_value</th>\n",
       "      <th>Year</th>\n",
       "      <th></th>\n",
       "      <th></th>\n",
       "      <th></th>\n",
       "      <th></th>\n",
       "      <th></th>\n",
       "      <th></th>\n",
       "      <th></th>\n",
       "      <th></th>\n",
       "      <th></th>\n",
       "    </tr>\n",
       "  </thead>\n",
       "  <tbody>\n",
       "    <tr>\n",
       "      <th>January</th>\n",
       "      <th>1</th>\n",
       "      <th>2016</th>\n",
       "      <td>21214.0</td>\n",
       "      <td>32139.0</td>\n",
       "      <td>0.0</td>\n",
       "      <td>2728.0</td>\n",
       "      <td>7202.0</td>\n",
       "      <td>0.0</td>\n",
       "      <td>36121.0</td>\n",
       "      <td>63546.0</td>\n",
       "      <td>0.0</td>\n",
       "    </tr>\n",
       "    <tr>\n",
       "      <th>February</th>\n",
       "      <th>2</th>\n",
       "      <th>2016</th>\n",
       "      <td>27779.0</td>\n",
       "      <td>36734.0</td>\n",
       "      <td>0.0</td>\n",
       "      <td>3426.0</td>\n",
       "      <td>8431.0</td>\n",
       "      <td>0.0</td>\n",
       "      <td>48863.0</td>\n",
       "      <td>66897.0</td>\n",
       "      <td>0.0</td>\n",
       "    </tr>\n",
       "    <tr>\n",
       "      <th>March</th>\n",
       "      <th>3</th>\n",
       "      <th>2016</th>\n",
       "      <td>26914.0</td>\n",
       "      <td>45950.0</td>\n",
       "      <td>3362.0</td>\n",
       "      <td>2457.0</td>\n",
       "      <td>6221.0</td>\n",
       "      <td>1729.0</td>\n",
       "      <td>49458.0</td>\n",
       "      <td>81932.0</td>\n",
       "      <td>5460.0</td>\n",
       "    </tr>\n",
       "    <tr>\n",
       "      <th>April</th>\n",
       "      <th>4</th>\n",
       "      <th>2016</th>\n",
       "      <td>38231.0</td>\n",
       "      <td>21057.0</td>\n",
       "      <td>0.0</td>\n",
       "      <td>8468.0</td>\n",
       "      <td>4761.0</td>\n",
       "      <td>0.0</td>\n",
       "      <td>68380.0</td>\n",
       "      <td>37561.0</td>\n",
       "      <td>0.0</td>\n",
       "    </tr>\n",
       "    <tr>\n",
       "      <th>May</th>\n",
       "      <th>5</th>\n",
       "      <th>2016</th>\n",
       "      <td>106163.0</td>\n",
       "      <td>38150.0</td>\n",
       "      <td>1580.0</td>\n",
       "      <td>22275.0</td>\n",
       "      <td>14216.0</td>\n",
       "      <td>1220.0</td>\n",
       "      <td>185622.0</td>\n",
       "      <td>70877.0</td>\n",
       "      <td>2563.0</td>\n",
       "    </tr>\n",
       "  </tbody>\n",
       "</table>\n",
       "</div>"
      ],
      "text/plain": [
       "                              click                      impression           \\\n",
       "content type                   Link    Photo SharedVideo       Link    Photo   \n",
       "Month    Month_value Year                                                      \n",
       "January  1           2016   21214.0  32139.0         0.0     2728.0   7202.0   \n",
       "February 2           2016   27779.0  36734.0         0.0     3426.0   8431.0   \n",
       "March    3           2016   26914.0  45950.0      3362.0     2457.0   6221.0   \n",
       "April    4           2016   38231.0  21057.0         0.0     8468.0   4761.0   \n",
       "May      5           2016  106163.0  38150.0      1580.0    22275.0  14216.0   \n",
       "\n",
       "                                          reach                       \n",
       "content type              SharedVideo      Link    Photo SharedVideo  \n",
       "Month    Month_value Year                                             \n",
       "January  1           2016         0.0   36121.0  63546.0         0.0  \n",
       "February 2           2016         0.0   48863.0  66897.0         0.0  \n",
       "March    3           2016      1729.0   49458.0  81932.0      5460.0  \n",
       "April    4           2016         0.0   68380.0  37561.0         0.0  \n",
       "May      5           2016      1220.0  185622.0  70877.0      2563.0  "
      ]
     },
     "execution_count": 10,
     "metadata": {},
     "output_type": "execute_result"
    }
   ],
   "source": [
    "df_sum=df1_2016.pivot_table(index=[\"Month\",\"Month_value\",\"Year\"],columns=[\"content type\"], values=[\"click\",\"reach\",\"impression\"],aggfunc=np.sum).round().fillna(0)\n",
    "df_sum=df_sum.sort_values(by=\"Month_value\",ascending=True)\n",
    "df_sum"
   ]
  },
  {
   "cell_type": "markdown",
   "metadata": {},
   "source": [
    "#### 4.2 Export this file to excel"
   ]
  },
  {
   "cell_type": "code",
   "execution_count": 11,
   "metadata": {},
   "outputs": [],
   "source": [
    "df_sum.to_excel(r\"C:\\Users\\user\\Desktop\\Projects\\Baby Destination Assignment\\Output_Monthly_Table.xlsx\")"
   ]
  },
  {
   "cell_type": "markdown",
   "metadata": {},
   "source": [
    "<a id=\"ref5\"></a>\n",
    "## 5.  Show monthly changes in reach for each of the content type for the below months."
   ]
  },
  {
   "cell_type": "markdown",
   "metadata": {},
   "source": [
    "#### 5.1 Create Pivot table for reach values"
   ]
  },
  {
   "cell_type": "code",
   "execution_count": 14,
   "metadata": {},
   "outputs": [
    {
     "data": {
      "text/html": [
       "<div>\n",
       "<style scoped>\n",
       "    .dataframe tbody tr th:only-of-type {\n",
       "        vertical-align: middle;\n",
       "    }\n",
       "\n",
       "    .dataframe tbody tr th {\n",
       "        vertical-align: top;\n",
       "    }\n",
       "\n",
       "    .dataframe thead tr th {\n",
       "        text-align: left;\n",
       "    }\n",
       "\n",
       "    .dataframe thead tr:last-of-type th {\n",
       "        text-align: right;\n",
       "    }\n",
       "</style>\n",
       "<table border=\"1\" class=\"dataframe\">\n",
       "  <thead>\n",
       "    <tr>\n",
       "      <th></th>\n",
       "      <th></th>\n",
       "      <th></th>\n",
       "      <th colspan=\"3\" halign=\"left\">reach</th>\n",
       "    </tr>\n",
       "    <tr>\n",
       "      <th></th>\n",
       "      <th></th>\n",
       "      <th>content type</th>\n",
       "      <th>Link</th>\n",
       "      <th>Photo</th>\n",
       "      <th>SharedVideo</th>\n",
       "    </tr>\n",
       "    <tr>\n",
       "      <th>Month</th>\n",
       "      <th>Month_value</th>\n",
       "      <th>Year</th>\n",
       "      <th></th>\n",
       "      <th></th>\n",
       "      <th></th>\n",
       "    </tr>\n",
       "  </thead>\n",
       "  <tbody>\n",
       "    <tr>\n",
       "      <th>January</th>\n",
       "      <th>1</th>\n",
       "      <th>2016</th>\n",
       "      <td>36121.0</td>\n",
       "      <td>63546.0</td>\n",
       "      <td>0.0</td>\n",
       "    </tr>\n",
       "    <tr>\n",
       "      <th>February</th>\n",
       "      <th>2</th>\n",
       "      <th>2016</th>\n",
       "      <td>48863.0</td>\n",
       "      <td>66897.0</td>\n",
       "      <td>0.0</td>\n",
       "    </tr>\n",
       "    <tr>\n",
       "      <th>March</th>\n",
       "      <th>3</th>\n",
       "      <th>2016</th>\n",
       "      <td>49458.0</td>\n",
       "      <td>81932.0</td>\n",
       "      <td>5460.0</td>\n",
       "    </tr>\n",
       "    <tr>\n",
       "      <th>April</th>\n",
       "      <th>4</th>\n",
       "      <th>2016</th>\n",
       "      <td>68380.0</td>\n",
       "      <td>37561.0</td>\n",
       "      <td>0.0</td>\n",
       "    </tr>\n",
       "    <tr>\n",
       "      <th>May</th>\n",
       "      <th>5</th>\n",
       "      <th>2016</th>\n",
       "      <td>185622.0</td>\n",
       "      <td>70877.0</td>\n",
       "      <td>2563.0</td>\n",
       "    </tr>\n",
       "  </tbody>\n",
       "</table>\n",
       "</div>"
      ],
      "text/plain": [
       "                              reach                     \n",
       "content type                   Link    Photo SharedVideo\n",
       "Month    Month_value Year                               \n",
       "January  1           2016   36121.0  63546.0         0.0\n",
       "February 2           2016   48863.0  66897.0         0.0\n",
       "March    3           2016   49458.0  81932.0      5460.0\n",
       "April    4           2016   68380.0  37561.0         0.0\n",
       "May      5           2016  185622.0  70877.0      2563.0"
      ]
     },
     "execution_count": 14,
     "metadata": {},
     "output_type": "execute_result"
    }
   ],
   "source": [
    "df_reach=df1_2016.pivot_table(index=[\"Month\",\"Month_value\",\"Year\"],columns=[\"content type\"], values=[\"reach\"],aggfunc=np.sum).round().fillna(0)\n",
    "df_reach=df_reach.sort_values(by=\"Month_value\",ascending=True)\n",
    "df_reach"
   ]
  },
  {
   "cell_type": "markdown",
   "metadata": {},
   "source": [
    "#### 5.2 Lets plot a bar graph for the above dataframe"
   ]
  },
  {
   "cell_type": "code",
   "execution_count": 15,
   "metadata": {},
   "outputs": [
    {
     "data": {
      "text/plain": [
       "<matplotlib.axes._subplots.AxesSubplot at 0x1e22b4eb9b0>"
      ]
     },
     "execution_count": 15,
     "metadata": {},
     "output_type": "execute_result"
    },
    {
     "data": {
      "image/png": "[encoded data removed]",
      "text/plain": [
       "<Figure size 576x576 with 1 Axes>"
      ]
     },
     "metadata": {
      "needs_background": "light"
     },
     "output_type": "display_data"
    }
   ],
   "source": [
    "df_reach.plot(kind=\"bar\",figsize=(8,8))"
   ]
  },
  {
   "cell_type": "code",
   "execution_count": null,
   "metadata": {},
   "outputs": [],
   "source": []
  },
  {
   "cell_type": "code",
   "execution_count": null,
   "metadata": {},
   "outputs": [],
   "source": []
  }
 ],
 "metadata": {
  "kernelspec": {
   "display_name": "Python 3",
   "language": "python",
   "name": "python3"
  },
  "language_info": {
   "codemirror_mode": {
    "name": "ipython",
    "version": 3
   },
   "file_extension": ".py",
   "mimetype": "text/x-python",
   "name": "python",
   "nbconvert_exporter": "python",
   "pygments_lexer": "ipython3",
   "version": "3.7.3"
  }
 },
 "nbformat": 4,
 "nbformat_minor": 2
}
